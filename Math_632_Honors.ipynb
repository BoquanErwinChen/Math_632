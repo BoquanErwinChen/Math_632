{
 "cells": [
  {
   "cell_type": "code",
   "execution_count": 1,
   "metadata": {
    "collapsed": false
   },
   "outputs": [],
   "source": [
    "%matplotlib inline\n",
    "\n",
    "import numpy as np\n",
    "from numpy import random as rd\n",
    "import matplotlib.pyplot as plt"
   ]
  },
  {
   "cell_type": "markdown",
   "metadata": {},
   "source": [
    "## 1.3.1"
   ]
  },
  {
   "cell_type": "code",
   "execution_count": 2,
   "metadata": {
    "collapsed": false
   },
   "outputs": [
    {
     "name": "stdout",
     "output_type": "stream",
     "text": [
      "[ 0.30958102 -0.52344801  2.06687316  1.50174458  1.06488462  0.68959544\n",
      " -0.53687106 -0.27976373  0.89721776 -1.71563251]\n",
      "[-0.24913456  0.5260729  -1.26556176  0.91804323  0.36546021  1.07912507\n",
      " -0.42500572  1.02894878  1.02051874  1.05496728]\n",
      "[ 1.33720193  0.04501067 -0.20943328  1.29881869  0.55441853 -0.28549499\n",
      " -1.02542921]\n",
      "[-0.64670586 -0.6583402  -1.1969117   0.47563258 -1.73532596 -1.0134039\n",
      " -0.24421712]\n"
     ]
    }
   ],
   "source": [
    "# 1.3.1\n",
    "size = 10\n",
    "U_1 = rd.sample(size)\n",
    "U_2 = rd.sample(size)\n",
    "# Box-Muller method\n",
    "N_1 = np.sqrt(-2.*np.log(U_1)) * np.cos(2.*np.pi*U_2)\n",
    "N_2 = np.sqrt(-2.*np.log(U_1)) * np.sin(2.*np.pi*U_2)\n",
    "print N_1\n",
    "print N_2\n",
    "\n",
    "# Polar Marsaglia Method\n",
    "V_1 = 2.*U_1 - 1\n",
    "V_2 = 2.*U_2 - 1\n",
    "W = np.power(V_1, 2) + np.power(V_2, 2)\n",
    "circle = np.where(W <= 1)[0]\n",
    "V_1 = V_1[circle]\n",
    "V_2 = V_2[circle]\n",
    "W = W[circle]\n",
    "N_1 = V_1 * np.sqrt(-2.*np.log(W)/W)\n",
    "N_2 = V_2 * np.sqrt(-2.*np.log(W)/W)\n",
    "print N_1\n",
    "print N_2"
   ]
  },
  {
   "cell_type": "markdown",
   "metadata": {},
   "source": [
    "## 1.4.1"
   ]
  },
  {
   "cell_type": "code",
   "execution_count": 3,
   "metadata": {
    "collapsed": false
   },
   "outputs": [
    {
     "data": {
      "image/png": "[encoded data removed]",
      "text/plain": [
       "<matplotlib.figure.Figure at 0x5aac750>"
      ]
     },
     "metadata": {},
     "output_type": "display_data"
    },
    {
     "name": "stdout",
     "output_type": "stream",
     "text": [
      "the mean of the pseudo-random numbers is 0.503521\n",
      "the variance of the pseudo-random numbers is 0.082580\n"
     ]
    }
   ],
   "source": [
    "# 1.4.1\n",
    "N = 10000\n",
    "rand_list = rd.sample(N)\n",
    "bins = np.arange(0, 1.01, .05)\n",
    "hist, bin_edges = np.histogram(rand_list, bins)\n",
    "plt.hist(rand_list, bins)\n",
    "plt.title(\"histogram for pseudo-random numbers\")\n",
    "plt.show()\n",
    "\n",
    "rand_list_mean = np.mean(rand_list)\n",
    "print \"the mean of the pseudo-random numbers is %f\"%rand_list_mean\n",
    "rand_list_var = np.var(rand_list, ddof=1)\n",
    "print \"the variance of the pseudo-random numbers is %f\"%rand_list_var"
   ]
  },
  {
   "cell_type": "markdown",
   "metadata": {},
   "source": [
    "As shown from the histogram above, the distribution of my pseudo-random numbers resembles that of $U(0,1)$. The mean 0.503456 and variance 0.082884 of the pseudo-random numbers are very close to the real mean $\\frac{1}{2}$ and variance $\\frac{1}{12}$. Therefore, RDN generator is statistically reliable. "
   ]
  },
  {
   "cell_type": "markdown",
   "metadata": {},
   "source": [
    "## 1.4.5"
   ]
  },
  {
   "cell_type": "code",
   "execution_count": null,
   "metadata": {
    "collapsed": true
   },
   "outputs": [],
   "source": []
  },
  {
   "cell_type": "markdown",
   "metadata": {},
   "source": [
    "## 1.4.6"
   ]
  },
  {
   "cell_type": "code",
   "execution_count": null,
   "metadata": {
    "collapsed": true
   },
   "outputs": [],
   "source": []
  }
 ],
 "metadata": {
  "kernelspec": {
   "display_name": "Python 2",
   "language": "python",
   "name": "python2"
  },
  "language_info": {
   "codemirror_mode": {
    "name": "ipython",
    "version": 2
   },
   "file_extension": ".py",
   "mimetype": "text/x-python",
   "name": "python",
   "nbconvert_exporter": "python",
   "pygments_lexer": "ipython2",
   "version": "2.7.11"
  }
 },
 "nbformat": 4,
 "nbformat_minor": 0
}
